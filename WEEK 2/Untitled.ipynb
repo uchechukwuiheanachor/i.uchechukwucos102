{
 "cells": [
  {
   "cell_type": "code",
   "execution_count": null,
   "id": "b0181cc6-9dd6-4184-b6f4-003b39023dfc",
   "metadata": {},
   "outputs": [],
   "source": [
    "str = input (\"Enter your state of origin:\")\n",
    "\n",
    "print (\"your state of origin is:\", str)\n",
    "print (\"the first character is : \",str[0])\n",
    "print (\"the characters starting from 3rd to 5th are : \", str[2:5])\n",
    "print (\"the string starting from 3rd character is: \", str[2:])\n",
    "print (\"state of origin two times\", str * 2)\n"
   ]
  },
  {
   "cell_type": "code",
   "execution_count": null,
   "id": "36e0fe28-8594-4f38-aea2-8309bbba0095",
   "metadata": {},
   "outputs": [],
   "source": []
  }
 ],
 "metadata": {
  "kernelspec": {
   "display_name": "Python 3 (ipykernel)",
   "language": "python",
   "name": "python3"
  },
  "language_info": {
   "codemirror_mode": {
    "name": "ipython",
    "version": 3
   },
   "file_extension": ".py",
   "mimetype": "text/x-python",
   "name": "python",
   "nbconvert_exporter": "python",
   "pygments_lexer": "ipython3",
   "version": "3.11.7"
  }
 },
 "nbformat": 4,
 "nbformat_minor": 5
}
