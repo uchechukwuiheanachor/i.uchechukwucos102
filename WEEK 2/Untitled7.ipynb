{
 "cells": [
  {
   "cell_type": "code",
   "execution_count": 1,
   "id": "f637c4b7-63ab-4657-98d8-7eb3b4ac714d",
   "metadata": {},
   "outputs": [
    {
     "ename": "SyntaxError",
     "evalue": "invalid syntax (2811050369.py, line 1)",
     "output_type": "error",
     "traceback": [
      "\u001b[1;36m  Cell \u001b[1;32mIn[1], line 1\u001b[1;36m\u001b[0m\n\u001b[1;33m    1. Start checkout process\u001b[0m\n\u001b[1;37m       ^\u001b[0m\n\u001b[1;31mSyntaxError\u001b[0m\u001b[1;31m:\u001b[0m invalid syntax\n"
     ]
    }
   ],
   "source": [
    "1. Start checkout process\n",
    "2. Calculate total price\n",
    "3. Apply any discounts or promotions\n",
    "4. Display final price to the customer\n",
    "5. Accept payment from the customer\n",
    "6. Process payment\n",
    "7. Print receipt\n",
    "8. End checkout process\n"
   ]
  },
  {
   "cell_type": "code",
   "execution_count": null,
   "id": "05909873-ac64-4763-8e24-88384ca66b91",
   "metadata": {},
   "outputs": [],
   "source": []
  }
 ],
 "metadata": {
  "kernelspec": {
   "display_name": "Python 3 (ipykernel)",
   "language": "python",
   "name": "python3"
  },
  "language_info": {
   "codemirror_mode": {
    "name": "ipython",
    "version": 3
   },
   "file_extension": ".py",
   "mimetype": "text/x-python",
   "name": "python",
   "nbconvert_exporter": "python",
   "pygments_lexer": "ipython3",
   "version": "3.11.7"
  }
 },
 "nbformat": 4,
 "nbformat_minor": 5
}
