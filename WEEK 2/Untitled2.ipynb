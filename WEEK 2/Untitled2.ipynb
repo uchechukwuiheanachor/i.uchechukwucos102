{
 "cells": [
  {
   "cell_type": "code",
   "execution_count": 7,
   "id": "3d46e5a3-e741-4b7b-a8bc-83a9d54479df",
   "metadata": {},
   "outputs": [
    {
     "ename": "SyntaxError",
     "evalue": "invalid syntax (2325990070.py, line 4)",
     "output_type": "error",
     "traceback": [
      "\u001b[1;36m  Cell \u001b[1;32mIn[7], line 4\u001b[1;36m\u001b[0m\n\u001b[1;33m    print(list)               ''' Prints complete list  '''\u001b[0m\n\u001b[1;37m                              ^\u001b[0m\n\u001b[1;31mSyntaxError\u001b[0m\u001b[1;31m:\u001b[0m invalid syntax\n"
     ]
    }
   ],
   "source": [
    "list = [ 'Anaconda',786 ,2.23,'jupyter',70.2]\n",
    "shortlist = [321, 'Python']\n",
    "\n",
    "print(list)               ''' Prints complete list  '''\n",
    "print(list[0])          # Prints first element of the list \n",
    "print(list[1:3])        # prints elements starting from 2nd till 3rd\n",
    "print(list[2:])         ''' Prints elements starting from 3rd element '''\n",
    "print (shortlist * 2)   # Prints list two times \n",
    "print (list + shortlist ) # prints concatenated lists"
   ]
  },
  {
   "cell_type": "code",
   "execution_count": null,
   "id": "ce74ac70-a7e8-4114-8b55-a967bb6ef960",
   "metadata": {},
   "outputs": [],
   "source": []
  }
 ],
 "metadata": {
  "kernelspec": {
   "display_name": "Python 3 (ipykernel)",
   "language": "python",
   "name": "python3"
  },
  "language_info": {
   "codemirror_mode": {
    "name": "ipython",
    "version": 3
   },
   "file_extension": ".py",
   "mimetype": "text/x-python",
   "name": "python",
   "nbconvert_exporter": "python",
   "pygments_lexer": "ipython3",
   "version": "3.11.7"
  }
 },
 "nbformat": 4,
 "nbformat_minor": 5
}
