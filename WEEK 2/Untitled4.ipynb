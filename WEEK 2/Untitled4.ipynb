{
 "cells": [
  {
   "cell_type": "code",
   "execution_count": 1,
   "id": "75b180a1-a1c4-4f3d-a73a-53e56e875095",
   "metadata": {},
   "outputs": [
    {
     "name": "stdout",
     "output_type": "stream",
     "text": [
      "False\n",
      "False\n",
      "False\n",
      "False\n",
      "True\n"
     ]
    }
   ],
   "source": [
    "# Returns false as game_1 is not equal to game_2\n",
    "game_1 = 2\n",
    "game_2 = 4\n",
    "print (bool(game_1 == game_2))\n",
    "#or\n",
    "print (game_1 == game_2)\n",
    "\n",
    "#Returns false as val is none\n",
    "val = None\n",
    "print (bool(val))\n",
    "\n",
    "#Returns false as num is an empty sequence\n",
    "num = ()\n",
    "print(bool(num))\n",
    "\n",
    "#Returns true as age is boolean\n",
    "age = True \n",
    "print (bool(age))\n"
   ]
  },
  {
   "cell_type": "code",
   "execution_count": null,
   "id": "0da46176-0016-4996-a6f6-afd946c1771d",
   "metadata": {},
   "outputs": [],
   "source": []
  }
 ],
 "metadata": {
  "kernelspec": {
   "display_name": "Python 3 (ipykernel)",
   "language": "python",
   "name": "python3"
  },
  "language_info": {
   "codemirror_mode": {
    "name": "ipython",
    "version": 3
   },
   "file_extension": ".py",
   "mimetype": "text/x-python",
   "name": "python",
   "nbconvert_exporter": "python",
   "pygments_lexer": "ipython3",
   "version": "3.11.7"
  }
 },
 "nbformat": 4,
 "nbformat_minor": 5
}
