{
 "cells": [
  {
   "cell_type": "code",
   "execution_count": 2,
   "id": "cb3f6ddd-a57b-4a44-97c1-04c9d65d917d",
   "metadata": {},
   "outputs": [],
   "source": [
    "import tkinter as tk\n",
    "from tkinter import messagebox\n",
    "\n",
    "class DeliveryService:\n",
    "    def __init__(self):\n",
    "        self.location_prices = {\n",
    "            \"PAU\": {\"below_10kg\": 1500, \"10kg_and_above\": 2000},\n",
    "            \"Epe\": {\"below_10kg\": 4000, \"10kg_and_above\": 5000}\n",
    "        }\n",
    "\n",
    "    def calculate_charge(self, location, weight):\n",
    "        if weight >= 10:\n",
    "            if location in self.location_prices:\n",
    "                return self.location_prices[location][\"10kg_and_above\"]\n",
    "        else:\n",
    "            if location in self.location_prices:\n",
    "                return self.location_prices[location][\"below_10kg\"]\n",
    "        return None  # Return None if location or weight is not valid\n",
    "\n",
    "class DeliveryGUI:\n",
    "    def __init__(self, root):\n",
    "        self.root = root\n",
    "        self.root.title(\"Delivery Service\")\n",
    "\n",
    "        self.label_location = tk.Label(self.root, text=\"Enter delivery location:\")\n",
    "        self.label_location.pack()\n",
    "\n",
    "        self.entry_location = tk.Entry(self.root)\n",
    "        self.entry_location.pack()\n",
    "\n",
    "        self.label_weight = tk.Label(self.root, text=\"Enter package weight (kg):\")\n",
    "        self.label_weight.pack()\n",
    "\n",
    "        self.entry_weight = tk.Entry(self.root)\n",
    "        self.entry_weight.pack()\n",
    "\n",
    "        self.button = tk.Button(self.root, text=\"Calculate Charge\", command=self.calculate_charge)\n",
    "        self.button.pack()\n",
    "\n",
    "        self.delivery_service = DeliveryService()\n",
    "\n",
    "    def calculate_charge(self):\n",
    "        location = self.entry_location.get().strip().upper()\n",
    "        weight = float(self.entry_weight.get())\n",
    "\n",
    "        charge = self.delivery_service.calculate_charge(location, weight)\n",
    "        if charge is not None:\n",
    "            messagebox.showinfo(\"Delivery Charge\", f\"The delivery charge is N{charge}\")\n",
    "        else:\n",
    "            messagebox.showerror(\"Invalid Input\", \"Invalid location or weight. Please check your input.\")\n",
    "\n",
    "if __name__ == \"__main__\":\n",
    "    root = tk.Tk()\n",
    "    app = DeliveryGUI(root)\n",
    "    root.mainloop()\n"
   ]
  },
  {
   "cell_type": "code",
   "execution_count": null,
   "id": "b179fba6-cb2b-4fa9-95c5-d85245de6bf7",
   "metadata": {},
   "outputs": [],
   "source": []
  }
 ],
 "metadata": {
  "kernelspec": {
   "display_name": "Python 3 (ipykernel)",
   "language": "python",
   "name": "python3"
  },
  "language_info": {
   "codemirror_mode": {
    "name": "ipython",
    "version": 3
   },
   "file_extension": ".py",
   "mimetype": "text/x-python",
   "name": "python",
   "nbconvert_exporter": "python",
   "pygments_lexer": "ipython3",
   "version": "3.11.7"
  }
 },
 "nbformat": 4,
 "nbformat_minor": 5
}
