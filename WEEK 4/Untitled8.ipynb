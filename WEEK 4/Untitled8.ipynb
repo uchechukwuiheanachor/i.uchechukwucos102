{
 "cells": [
  {
   "cell_type": "code",
   "execution_count": 1,
   "id": "12fe95fc-d985-4846-81e4-2bc93321130f",
   "metadata": {},
   "outputs": [
    {
     "name": "stdout",
     "output_type": "stream",
     "text": [
      "Inside the function local total :  30\n",
      "Outside the function global total :  50\n"
     ]
    }
   ],
   "source": [
    "total = 50; # This is global variable.\n",
    "def sum( arg1, arg2 ):\n",
    "    # Add both the parameters\n",
    "    total = arg1 + arg2;\n",
    "    print (\"Inside the function local total : \", total)\n",
    "    return total;\n",
    "#Now you can call sum function \n",
    "sum( 10, 20 );\n",
    "print (\"Outside the function global total : \", total)"
   ]
  },
  {
   "cell_type": "code",
   "execution_count": null,
   "id": "c92de621-6fac-463f-b848-35a7fa734ca8",
   "metadata": {},
   "outputs": [],
   "source": []
  }
 ],
 "metadata": {
  "kernelspec": {
   "display_name": "Python 3 (ipykernel)",
   "language": "python",
   "name": "python3"
  },
  "language_info": {
   "codemirror_mode": {
    "name": "ipython",
    "version": 3
   },
   "file_extension": ".py",
   "mimetype": "text/x-python",
   "name": "python",
   "nbconvert_exporter": "python",
   "pygments_lexer": "ipython3",
   "version": "3.11.7"
  }
 },
 "nbformat": 4,
 "nbformat_minor": 5
}
