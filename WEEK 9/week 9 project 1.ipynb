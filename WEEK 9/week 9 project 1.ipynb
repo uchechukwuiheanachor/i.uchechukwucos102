{
 "cells": [
  {
   "cell_type": "code",
   "execution_count": 1,
   "id": "818797e5-d4da-481c-8d6e-b2e5ddd21f08",
   "metadata": {},
   "outputs": [],
   "source": [
    "import tkinter as tk\n",
    "from tkinter import messagebox\n",
    "import random\n",
    "\n",
    "class Employee:\n",
    "    def __init__(self):\n",
    "        self.employees = [\"Mary Evans\", \"Eyo Ishan\", \"Durojaiye Dare\", \"Adams Ali\", \"Andrew Ugwu\", \"Stella Mankinde\",\n",
    "                          \"Jane Akibo\", \"Ago James\", \"Michell Taiwo\", \"Abraham Jones\", \"Nicole Anide\", \"Kosi Korso\",\n",
    "                          \"Adele Martins\", \"Emmanuel Ojo\", \"Ajayi Fatima\"]\n",
    "        self.tasks = [\"Loading\", \"Transporting\", \"Reviewing Orders\", \"Customer Service\", \"Delivering Items\"]\n",
    "\n",
    "    def check_employee(self, name):\n",
    "        if name in self.employees:\n",
    "            return True\n",
    "        else:\n",
    "            return False\n",
    "\n",
    "    def take_attendance(self, name):\n",
    "        attendance_file = open(\"attendance.txt\", \"a\")\n",
    "        attendance_file.write(f\"{name} - Present\\n\")\n",
    "        attendance_file.close()\n",
    "\n",
    "    def assign_task(self):\n",
    "        return random.choice(self.tasks)\n",
    "\n",
    "    def refuse_access(self):\n",
    "        messagebox.showerror(\"Access Denied\", \"You are not an employee of this organization.\")\n",
    "\n",
    "class EmployeeGUI:\n",
    "    def __init__(self, root):\n",
    "        self.root = root\n",
    "        self.root.title(\"Employee Management System\")\n",
    "\n",
    "        self.label = tk.Label(self.root, text=\"Enter your name:\")\n",
    "        self.label.pack()\n",
    "\n",
    "        self.entry = tk.Entry(self.root)\n",
    "        self.entry.pack()\n",
    "\n",
    "        self.button = tk.Button(self.root, text=\"Submit\", command=self.check_employee)\n",
    "        self.button.pack()\n",
    "\n",
    "        self.employee_manager = Employee()\n",
    "\n",
    "    def check_employee(self):\n",
    "        name = self.entry.get()\n",
    "        if self.employee_manager.check_employee(name):\n",
    "            self.employee_manager.take_attendance(name)\n",
    "            task = self.employee_manager.assign_task()\n",
    "            messagebox.showinfo(\"Task Assigned\", f\"Welcome {name}! Your task for today is: {task}\")\n",
    "        else:\n",
    "            self.employee_manager.refuse_access()\n",
    "\n",
    "if __name__ == \"__main__\":\n",
    "    root = tk.Tk()\n",
    "    app = EmployeeGUI(root)\n",
    "    root.mainloop()\n"
   ]
  },
  {
   "cell_type": "code",
   "execution_count": null,
   "id": "c411fda0-c0c6-49f4-8ae7-358a06f0516a",
   "metadata": {},
   "outputs": [],
   "source": []
  }
 ],
 "metadata": {
  "kernelspec": {
   "display_name": "Python 3 (ipykernel)",
   "language": "python",
   "name": "python3"
  },
  "language_info": {
   "codemirror_mode": {
    "name": "ipython",
    "version": 3
   },
   "file_extension": ".py",
   "mimetype": "text/x-python",
   "name": "python",
   "nbconvert_exporter": "python",
   "pygments_lexer": "ipython3",
   "version": "3.11.7"
  }
 },
 "nbformat": 4,
 "nbformat_minor": 5
}
