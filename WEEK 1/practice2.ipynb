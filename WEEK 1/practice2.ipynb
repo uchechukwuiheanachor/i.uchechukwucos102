{
 "cells": [
  {
   "cell_type": "code",
   "execution_count": 2,
   "id": "69f9e771-47d8-4609-8c82-8b37b4e636d4",
   "metadata": {},
   "outputs": [
    {
     "name": "stdout",
     "output_type": "stream",
     "text": [
      "Hi my name is Matthew. I am string\n",
      "<class 'str'>\n",
      "Hi my name is Precious. I am also a String\n",
      "<class 'str'>\n"
     ]
    }
   ],
   "source": [
    "#python program to print strings and type\n",
    "str1 = \"Hi my name is Matthew. I am string\"\n",
    "str2 = 'Hi my name is Precious. I am also a String'\n",
    "\n",
    "#displaying string str1 and its type\n",
    "print(str1)\n",
    "print(type(str2))\n",
    "\n",
    "# displaying string str2 and its type\n",
    "print(str2)\n",
    "print(type(str2))"
   ]
  },
  {
   "cell_type": "code",
   "execution_count": null,
   "id": "7e351788-17a3-4103-b114-3a9d9848bb73",
   "metadata": {},
   "outputs": [],
   "source": []
  }
 ],
 "metadata": {
  "kernelspec": {
   "display_name": "Python 3 (ipykernel)",
   "language": "python",
   "name": "python3"
  },
  "language_info": {
   "codemirror_mode": {
    "name": "ipython",
    "version": 3
   },
   "file_extension": ".py",
   "mimetype": "text/x-python",
   "name": "python",
   "nbconvert_exporter": "python",
   "pygments_lexer": "ipython3",
   "version": "3.11.7"
  }
 },
 "nbformat": 4,
 "nbformat_minor": 5
}
