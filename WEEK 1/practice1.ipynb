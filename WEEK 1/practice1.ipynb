{
 "cells": [
  {
   "cell_type": "code",
   "execution_count": 2,
   "id": "434ed281-1b04-4f7c-b7c5-4cc8b717c7eb",
   "metadata": {
    "scrolled": true
   },
   "outputs": [
    {
     "name": "stdout",
     "output_type": "stream",
     "text": [
      "100\n",
      "Data Type of varaible num is <class 'int'>\n",
      "34.45\n",
      "Data Type of fnum is  <class 'int'>\n",
      "(3+4j)\n",
      "Data Type of varaibles cnum is  <class 'complex'>\n"
     ]
    }
   ],
   "source": [
    "# Integer number \n",
    "num = 100\n",
    "print(num)\n",
    "print(\"Data Type of varaible num is\", type (num))\n",
    "\n",
    "#float number \n",
    "fnum = 34.45\n",
    "print(fnum)\n",
    "print(\"Data Type of fnum is \", type (num))\n",
    "\n",
    "\n",
    "#complex number \n",
    "cnum= 3+4j\n",
    "print(cnum)\n",
    "print(\"Data Type of varaibles cnum is \", type(cnum))\n"
   ]
  },
  {
   "cell_type": "code",
   "execution_count": null,
   "id": "b6b2404f-9ecf-4767-9419-40e834525b27",
   "metadata": {},
   "outputs": [],
   "source": []
  }
 ],
 "metadata": {
  "kernelspec": {
   "display_name": "Python 3 (ipykernel)",
   "language": "python",
   "name": "python3"
  },
  "language_info": {
   "codemirror_mode": {
    "name": "ipython",
    "version": 3
   },
   "file_extension": ".py",
   "mimetype": "text/x-python",
   "name": "python",
   "nbconvert_exporter": "python",
   "pygments_lexer": "ipython3",
   "version": "3.11.7"
  }
 },
 "nbformat": 4,
 "nbformat_minor": 5
}
