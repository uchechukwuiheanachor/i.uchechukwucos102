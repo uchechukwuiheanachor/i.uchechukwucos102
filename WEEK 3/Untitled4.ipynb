{
 "cells": [
  {
   "cell_type": "code",
   "execution_count": 5,
   "id": "a9554830-32c2-4cd0-a8be-061eb8f539f1",
   "metadata": {},
   "outputs": [
    {
     "name": "stdout",
     "output_type": "stream",
     "text": [
      "IZIFIN TECHNOLOGY FINTECH NIGERIA\n",
      "ANNUAL TAX REVENUE REVIEWER\n"
     ]
    },
    {
     "name": "stdin",
     "output_type": "stream",
     "text": [
      "Enter years of experience:  40\n",
      "Enter age:  37\n"
     ]
    },
    {
     "name": "stdout",
     "output_type": "stream",
     "text": [
      "Annual Tax Revenue (ATR): 1500000\n"
     ]
    }
   ],
   "source": [
    "print(\"IZIFIN TECHNOLOGY FINTECH NIGERIA\")\n",
    "print(\"ANNUAL TAX REVENUE REVIEWER\")\n",
    "\n",
    "# calculating ATR based on years of experience and age\n",
    "years_of_experience = int(input(\"Enter years of experience: \"))\n",
    "age = int(input(\"Enter age: \"))\n",
    "\n",
    "if years_of_experience > 25 and age >= 55:\n",
    "            atr = 5600000\n",
    "elif years_of_experience > 20 and age >= 45:\n",
    "            atr = 4480000\n",
    "elif years_of_experience >10 and age >= 35:\n",
    "            atr = 1500000\n",
    "else:\n",
    "        atr = 550000\n",
    "\n",
    "print(\"Annual Tax Revenue (ATR):\", (atr))"
   ]
  },
  {
   "cell_type": "code",
   "execution_count": null,
   "id": "ce4017c3-29a3-4247-bc69-98850bd841fd",
   "metadata": {},
   "outputs": [],
   "source": []
  }
 ],
 "metadata": {
  "kernelspec": {
   "display_name": "Python 3 (ipykernel)",
   "language": "python",
   "name": "python3"
  },
  "language_info": {
   "codemirror_mode": {
    "name": "ipython",
    "version": 3
   },
   "file_extension": ".py",
   "mimetype": "text/x-python",
   "name": "python",
   "nbconvert_exporter": "python",
   "pygments_lexer": "ipython3",
   "version": "3.11.7"
  }
 },
 "nbformat": 4,
 "nbformat_minor": 5
}
