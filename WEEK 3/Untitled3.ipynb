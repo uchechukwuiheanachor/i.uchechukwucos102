{
 "cells": [
  {
   "cell_type": "code",
   "execution_count": 2,
   "id": "74e00b51-9a52-4782-94b5-f7fe8c172d49",
   "metadata": {},
   "outputs": [
    {
     "name": "stdout",
     "output_type": "stream",
     "text": [
      "DATA OF GIRLS IN CLASS \n",
      "\n",
      " NAMES     | AGE | HEIGHT | SCORE\n",
      " Evelyn    | 17  | 5.5    | 80   \n",
      " Jessica   | 17  | 6.0    | 85   \n",
      " Somto     | 17  | 5.4    | 70   \n",
      " Edith     | 18  | 5.9    | 60   \n",
      " Liza      | 16  | 5.6    | 76   \n",
      " Madonna   | 18  | 5.5    | 66   \n",
      " Waje      | 17  | 6.1    | 86   \n",
      " Tola      | 20  | 6.0    | 95   \n",
      " Aisha     | 19  | 5.7    | 50   \n",
      " Latifa    | 17  | 5.5    | 49   \n",
      "\n",
      "DATA OF BOYS IN CLASS \n",
      "\n",
      " NAMES     | AGE | HEIGHT | SCORE\n",
      " Chinedu   | 19  | 5.7    | 74   \n",
      " Liam      | 16  | 5.9    | 87   \n",
      " Wale      | 18  | 5.8    | 75   \n",
      " Gbenga    | 17  | 6.1    | 68   \n",
      " Abiola    | 20  | 5.9    | 66   \n",
      " Kola      | 19  | 5.5    | 78   \n",
      " Kunle     | 16  | 6.1    | 87   \n",
      " George    | 18  | 5.4    | 98   \n",
      " Thomas    | 17  | 5.8    | 54   \n",
      " Wesley    | 19  | 5.7    | 60   \n"
     ]
    }
   ],
   "source": [
    "# class girls\n",
    "print(\"DATA OF GIRLS IN CLASS \\n\")\n",
    "\n",
    "girls = [[\"Evelyn\",\"17\",\"5.5\",80],\n",
    "        [\"Jessica\",\"17\",\"6.0\",85],\n",
    "        [\"Somto\",\"17\",\"5.4\",70],\n",
    "        [\"Edith\",\"18\",\"5.9\",60],\n",
    "        [\"Liza\",\"16\",\"5.6\",76],\n",
    "        [\"Madonna\",\"18\",\"5.5\",66],\n",
    "        [\"Waje\",\"17\",\"6.1\",86],\n",
    "        [\"Tola\",\"20\",\"6.0\",95],\n",
    "        [\"Aisha\",\"19\",\"5.7\",50],\n",
    "        [\"Latifa\",\"17\",\"5.5\",49]]\n",
    "\n",
    "print(\" NAMES     | AGE | HEIGHT | SCORE\")\n",
    "\n",
    "for i in girls:  \n",
    "    print(\"\",i[0],\" \"*(8-len(i[0])),\"|\",\n",
    "          i[1],\" \"*(2-len(i[1])),\"|\",\n",
    "          i[2],\" \"*(5-len(i[2])),\"|\",\n",
    "          i[3], \" \" * (4 - len(str(i[3]))), )\n",
    "#class boys\n",
    "print(\"\\nDATA OF BOYS IN CLASS \\n\")\n",
    "\n",
    "boys = [[\"Chinedu\", \"19\", \"5.7\", 74],\n",
    "        [\"Liam\", \"16\", \"5.9\", 87],\n",
    "        [\"Wale\", \"18\", \"5.8\", 75],\n",
    "        [\"Gbenga\", \"17\", \"6.1\", 68],\n",
    "        [\"Abiola\", \"20\", \"5.9\", 66],\n",
    "        [\"Kola\", \"19\", \"5.5\", 78],\n",
    "        [\"Kunle\", \"16\", \"6.1\", 87],\n",
    "        [\"George\", \"18\", \"5.4\", 98],\n",
    "        [\"Thomas\", \"17\", \"5.8\", 54],\n",
    "        [\"Wesley\", \"19\", \"5.7\", 60]]\n",
    "\n",
    "print(\" NAMES     | AGE | HEIGHT | SCORE\")\n",
    "\n",
    "for i in boys:  \n",
    "    print(\"\",i[0],\" \"*(8-len(i[0])),\"|\",\n",
    "          i[1],\" \"*(2-len(i[1])),\"|\",\n",
    "          i[2],\" \"*(5-len(i[2])),\"|\",\n",
    "          i[3], \" \" * (4 - len(str(i[3]))),)"
   ]
  },
  {
   "cell_type": "code",
   "execution_count": null,
   "id": "e44f1233-a2a6-45c6-8e6e-134389b6386f",
   "metadata": {},
   "outputs": [],
   "source": []
  }
 ],
 "metadata": {
  "kernelspec": {
   "display_name": "Python 3 (ipykernel)",
   "language": "python",
   "name": "python3"
  },
  "language_info": {
   "codemirror_mode": {
    "name": "ipython",
    "version": 3
   },
   "file_extension": ".py",
   "mimetype": "text/x-python",
   "name": "python",
   "nbconvert_exporter": "python",
   "pygments_lexer": "ipython3",
   "version": "3.11.7"
  }
 },
 "nbformat": 4,
 "nbformat_minor": 5
}
