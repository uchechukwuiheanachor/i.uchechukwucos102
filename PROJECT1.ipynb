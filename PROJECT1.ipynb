{
 "cells": [
  {
   "cell_type": "code",
   "execution_count": 3,
   "id": "e79190ce-01c0-4d3d-a2ab-b5fad0281b02",
   "metadata": {},
   "outputs": [
    {
     "name": "stdout",
     "output_type": "stream",
     "text": [
      "1.12\n",
      "The simple interest is 8624.0\n"
     ]
    }
   ],
   "source": [
    "#simple interest\n",
    "P = 7700\n",
    "R = 3\n",
    "T = 4\n",
    "RATE = R/100\n",
    "x = 1 + ( RATE * T)\n",
    "print(x)\n",
    "S_I = P * x\n",
    "print(\"The simple interest is\", S_I)"
   ]
  },
  {
   "cell_type": "code",
   "execution_count": 8,
   "id": "f4b5ed42-e102-4d41-be58-db29da3b137c",
   "metadata": {},
   "outputs": [
    {
     "name": "stdout",
     "output_type": "stream",
     "text": [
      "The compound interest is 9494.35\n"
     ]
    }
   ],
   "source": [
    "#compound interest\n",
    "n = 6\n",
    "t = 7\n",
    "y= (1 + (RATE/n))**(n*t)\n",
    "C_I = P * y\n",
    "cr = round(C_I, 2)\n",
    "print(\"The compound interest is\", cr)"
   ]
  },
  {
   "cell_type": "code",
   "execution_count": 11,
   "id": "28f2a625-8049-4962-9b9f-f328b9cffe2a",
   "metadata": {},
   "outputs": [
    {
     "name": "stdout",
     "output_type": "stream",
     "text": [
      "The annuity plan is 372.85\n"
     ]
    }
   ],
   "source": [
    "#annuity plan\n",
    "PMT = 8\n",
    "z = RATE/n\n",
    "A_P = PMT * (y - 1)/z\n",
    "ar = round(A_P, 2)\n",
    "print(\"The annuity plan is\", ar)\n"
   ]
  },
  {
   "cell_type": "code",
   "execution_count": null,
   "id": "ef1d912b-780a-46b4-bc06-cc3a36129815",
   "metadata": {},
   "outputs": [],
   "source": []
  }
 ],
 "metadata": {
  "kernelspec": {
   "display_name": "Python 3 (ipykernel)",
   "language": "python",
   "name": "python3"
  },
  "language_info": {
   "codemirror_mode": {
    "name": "ipython",
    "version": 3
   },
   "file_extension": ".py",
   "mimetype": "text/x-python",
   "name": "python",
   "nbconvert_exporter": "python",
   "pygments_lexer": "ipython3",
   "version": "3.11.7"
  }
 },
 "nbformat": 4,
 "nbformat_minor": 5
}
